{
 "cells": [
  {
   "cell_type": "code",
   "execution_count": 1,
   "metadata": {},
   "outputs": [],
   "source": [
    "import gym\n",
    "import itertools\n",
    "import matplotlib.pyplot as plt\n",
    "import matplotlib\n",
    "import numpy as np\n",
    "import sys\n",
    "import sklearn.pipeline\n",
    "import sklearn.preprocessing\n",
    "from lib import plotting\n",
    "import time\n",
    "\n",
    "from sklearn.linear_model import SGDRegressor\n",
    "from sklearn.kernel_approximation import RBFSampler\n",
    "\n",
    "matplotlib.style.use('ggplot')"
   ]
  },
  {
   "cell_type": "code",
   "execution_count": 2,
   "metadata": {
    "scrolled": true
   },
   "outputs": [],
   "source": [
    "env = gym.make('Acrobot-v1')"
   ]
  },
  {
   "cell_type": "code",
   "execution_count": 3,
   "metadata": {},
   "outputs": [
    {
     "data": {
      "text/plain": [
       "array([ 6.6720024e-02,  6.9492832e-03,  2.7780622e-01, -8.2222879e-01,\n",
       "        8.5213413e+00,  1.4480220e+01], dtype=float32)"
      ]
     },
     "execution_count": 3,
     "metadata": {},
     "output_type": "execute_result"
    }
   ],
   "source": [
    "env.observation_space.sample()"
   ]
  },
  {
   "cell_type": "code",
   "execution_count": 4,
   "metadata": {},
   "outputs": [],
   "source": [
    "class TileCoder:\n",
    "    \n",
    "    def __init__(self, tiles_per_dim, value_limits, tilings, offset=lambda n: 2 * np.arange(n) + 1):\n",
    "        tiling_dims = np.array(np.ceil(tiles_per_dim), dtype=np.int) + 1\n",
    "        self._offsets = offset(len(tiles_per_dim)) * \\\n",
    "          np.repeat([np.arange(tilings)], len(tiles_per_dim), 0).T / float(tilings) % 1\n",
    "        self._limits = np.array(value_limits)\n",
    "        self._norm_dims = np.array(tiles_per_dim) / (self._limits[:, 1] - self._limits[:, 0])\n",
    "        self._tile_base_ind = np.prod(tiling_dims) * np.arange(tilings)\n",
    "        self._hash_vec = np.array([np.prod(tiling_dims[0:i]) for i in range(len(tiles_per_dim))])\n",
    "        self._n_tiles = tilings * np.prod(tiling_dims)\n",
    "  \n",
    "    def __getitem__(self, x):\n",
    "        off_coords = ((x - self._limits[:, 0]) * self._norm_dims + self._offsets).astype(int)\n",
    "        return self._tile_base_ind + np.dot(off_coords, self._hash_vec)\n",
    "\n",
    "    @property\n",
    "    def n_tiles(self):\n",
    "        return self._n_tiles"
   ]
  },
  {
   "cell_type": "code",
   "execution_count": 5,
   "metadata": {},
   "outputs": [
    {
     "data": {
      "text/plain": [
       "array([  80,  201,  322,  443,  564,  685,  817,  927, 1049, 1170, 1291,\n",
       "       1412, 1544, 1665, 1775, 1896, 2017, 2138, 2259, 2391])"
      ]
     },
     "execution_count": 5,
     "metadata": {},
     "output_type": "execute_result"
    }
   ],
   "source": [
    "tiles_per_dim = [10, 10]\n",
    "# value limits of each dimension\n",
    "lims = [(0.0, 10.0), (0.0, 10.0)]\n",
    "# number of tilings\n",
    "tilings = 20\n",
    "T = TileCoder(tiles_per_dim, lims, tilings)\n",
    "T[3.6, 7.21]"
   ]
  },
  {
   "cell_type": "code",
   "execution_count": 6,
   "metadata": {},
   "outputs": [],
   "source": [
    "test = np.array([3.6, 7.21])"
   ]
  },
  {
   "cell_type": "code",
   "execution_count": 7,
   "metadata": {},
   "outputs": [
    {
     "data": {
      "text/plain": [
       "array([  80,  201,  322,  443,  564,  685,  817,  927, 1049, 1170, 1291,\n",
       "       1412, 1544, 1665, 1775, 1896, 2017, 2138, 2259, 2391])"
      ]
     },
     "execution_count": 7,
     "metadata": {},
     "output_type": "execute_result"
    }
   ],
   "source": [
    "T[test]"
   ]
  },
  {
   "cell_type": "code",
   "execution_count": 8,
   "metadata": {},
   "outputs": [
    {
     "name": "stdout",
     "output_type": "stream",
     "text": [
      "samples: 100000 batch_mse: 0.0021264814737211517\n",
      "elapsed time: 2.4881842136383057\n"
     ]
    }
   ],
   "source": [
    "# target function with gaussian noise\n",
    "def target_ftn(x, y):\n",
    "    return np.sin(x) + np.cos(y) + 0.05 * np.random.randn()\n",
    "\n",
    "# linear function weight vector, step size for SGD\n",
    "w = np.zeros(T.n_tiles)\n",
    "alpha = 0.1 / tilings\n",
    "\n",
    "# take 10,000 samples of target function, output mse of batches of 100 points\n",
    "timer = time.time()\n",
    "batch_size = 100\n",
    "for batches in range(1000):\n",
    "    mse = 0.0\n",
    "    for b in range(batch_size):\n",
    "        x = lims[0][0] + np.random.rand() * (lims[0][1] - lims[0][0])\n",
    "        y = lims[1][0] + np.random.rand() * (lims[1][1] - lims[1][0])\n",
    "        target = target_ftn(x, y)\n",
    "        tiles = T[x, y]\n",
    "        w[tiles] += alpha * (target - w[tiles].sum())\n",
    "        mse += (target - w[tiles].sum()) ** 2\n",
    "    mse /= batch_size\n",
    "print('samples:', (batches + 1) * batch_size, 'batch_mse:', mse)\n",
    "print('elapsed time:', time.time() - timer)\n"
   ]
  },
  {
   "cell_type": "code",
   "execution_count": 9,
   "metadata": {},
   "outputs": [
    {
     "data": {
      "text/plain": [
       "-0.442202147349454"
      ]
     },
     "execution_count": 9,
     "metadata": {},
     "output_type": "execute_result"
    }
   ],
   "source": [
    "tiles = T[2.5, 3.1]\n",
    "w[tiles].sum()"
   ]
  },
  {
   "cell_type": "code",
   "execution_count": 10,
   "metadata": {},
   "outputs": [
    {
     "data": {
      "text/plain": [
       "-0.40066300616932293"
      ]
     },
     "execution_count": 10,
     "metadata": {},
     "output_type": "execute_result"
    }
   ],
   "source": [
    "np.sin(2.5)+np.cos(3.1)"
   ]
  },
  {
   "cell_type": "code",
   "execution_count": 11,
   "metadata": {},
   "outputs": [],
   "source": [
    "class Function_Approximator():\n",
    "    \n",
    "    def __init__(self):\n",
    "        tiles_per_dim = [2,2,2,2,8,18]\n",
    "        lims = [(-1.0,1.0),(-1.0,1.0),(-1.0,1.0),(-1.0,1.0),(-4*np.pi,4*np.pi),(-9*np.pi,9*np.pi)]\n",
    "        tilings = 8\n",
    "        self.T = TileCoder(tiles_per_dim, lims, tilings)\n",
    "        self.q0 = np.zeros(self.T.n_tiles)\n",
    "        self.q1 = np.zeros(self.T.n_tiles)\n",
    "        self.q2 = np.zeros(self.T.n_tiles)\n",
    "        self.alpha_sgd = 0.1/tilings\n",
    "        \n",
    "    def predict(self,state):\n",
    "        \n",
    "        tiles = self.T[state]\n",
    "        val_q0 = self.q0[tiles].sum()\n",
    "        val_q1 = self.q1[tiles].sum()\n",
    "        val_q2 = self.q2[tiles].sum()\n",
    "        \n",
    "        return np.array([val_q0,val_q1,val_q2])\n",
    "    \n",
    "    def update(self,state,action,target):\n",
    "        \n",
    "        tiles = self.T[state]\n",
    "        if action == 0:\n",
    "            self.q0[tiles] += self.alpha_sgd*(target-self.predict(state)[0])\n",
    "        elif action == 1:\n",
    "            self.q1[tiles] += self.alpha_sgd*(target-self.predict(state)[1])                                             \n",
    "        elif action == 2:\n",
    "            self.q2[tiles] += self.alpha_sgd*(target-self.predict(state)[2])        \n",
    "        \n",
    "        "
   ]
  },
  {
   "cell_type": "code",
   "execution_count": 12,
   "metadata": {},
   "outputs": [],
   "source": [
    "def make_epsilon_greedy_policy(estimator, epsilon, nA):\n",
    "    \n",
    "    def policy_fn(observation):\n",
    "        A = np.ones(nA, dtype=float) * epsilon / nA\n",
    "        q_values = estimator.predict(observation)\n",
    "        #print(q_values)\n",
    "        best_action = np.argmax(q_values)\n",
    "        A[best_action] += (1.0 - epsilon)\n",
    "        return A\n",
    "    return policy_fn"
   ]
  },
  {
   "cell_type": "code",
   "execution_count": 13,
   "metadata": {},
   "outputs": [],
   "source": [
    "def sarsa(env, estimator, num_episodes, alpha=1, discount_factor=0.99, epsilon=0.1, epsilon_decay=1.0):\n",
    "    \n",
    "#     alpha = 1\n",
    "    \n",
    "    stats = plotting.EpisodeStats(\n",
    "        episode_lengths=np.zeros(num_episodes),\n",
    "        episode_rewards=np.zeros(num_episodes))\n",
    "    \n",
    "    for i_episode in range(num_episodes):\n",
    "        \n",
    "        policy = make_epsilon_greedy_policy(estimator, epsilon * epsilon_decay**i_episode, env.action_space.n)\n",
    "        \n",
    "        # Initialize 's'\n",
    "        state = env.reset()\n",
    "        \n",
    "        # Choose 'a' and 's' using policy derived from Q\n",
    "        action_probs = policy(state)\n",
    "        action = np.random.choice(np.arange(len(action_probs)), p=action_probs)\n",
    "            \n",
    "        for t in itertools.count():\n",
    "            \n",
    "            # Take action 'a' and observe r, s'\n",
    "            next_state, reward, end, _ = env.step(action)\n",
    "            env.render()\n",
    "            \n",
    "            # Choose a' from s' using policy derived from Q\n",
    "            next_action_probs = policy(next_state)\n",
    "            next_action = np.random.choice(np.arange(len(next_action_probs)), p=next_action_probs)\n",
    "            \n",
    "            stats.episode_rewards[i_episode] += reward\n",
    "            stats.episode_lengths[i_episode] = t\n",
    "            \n",
    "            # Get Q(s,~)\n",
    "            q_values_this = estimator.predict(state)\n",
    "            \n",
    "            # Get Q(s',~)\n",
    "            q_values_next = estimator.predict(next_state)\n",
    "            \n",
    "            # [r + gamma*Q(s',a')]\n",
    "            td_target = alpha*(reward + discount_factor * q_values_next[next_action]) + (1-alpha)*q_values_this[action]\n",
    "            \n",
    "            # Update Q value\n",
    "            estimator.update(state, action, td_target)\n",
    "            \n",
    "            # Policy update\n",
    "            policy = make_epsilon_greedy_policy(estimator, epsilon * epsilon_decay**i_episode, env.action_space.n)\n",
    "                \n",
    "            if end:\n",
    "                break\n",
    "                \n",
    "            state = next_state\n",
    "            action = next_action\n",
    "        if (i_episode+1) % 10 == 0:\n",
    "            avg_reward = np.sum(stats.episode_rewards[i_episode-10:i_episode])/10\n",
    "            print(\"\\rEpisode {}/{} Avg. reward = {}\".format(i_episode + 1, num_episodes, avg_reward))\n",
    "    \n",
    "    return stats"
   ]
  },
  {
   "cell_type": "code",
   "execution_count": 15,
   "metadata": {
    "scrolled": true
   },
   "outputs": [
    {
     "name": "stdout",
     "output_type": "stream",
     "text": [
      "Episode 10/1000 Avg. reward = 0.0\n",
      "Episode 20/1000 Avg. reward = -424.6\n",
      "Episode 30/1000 Avg. reward = -395.8\n",
      "Episode 40/1000 Avg. reward = -281.2\n",
      "Episode 50/1000 Avg. reward = -325.6\n",
      "Episode 60/1000 Avg. reward = -309.0\n",
      "Episode 70/1000 Avg. reward = -240.6\n",
      "Episode 80/1000 Avg. reward = -201.9\n",
      "Episode 90/1000 Avg. reward = -222.6\n",
      "Episode 100/1000 Avg. reward = -202.3\n",
      "Episode 110/1000 Avg. reward = -244.4\n",
      "Episode 120/1000 Avg. reward = -250.5\n",
      "Episode 130/1000 Avg. reward = -166.8\n",
      "Episode 140/1000 Avg. reward = -212.5\n",
      "Episode 150/1000 Avg. reward = -196.8\n",
      "Episode 160/1000 Avg. reward = -191.2\n",
      "Episode 170/1000 Avg. reward = -176.3\n",
      "Episode 180/1000 Avg. reward = -185.8\n",
      "Episode 190/1000 Avg. reward = -201.4\n",
      "Episode 200/1000 Avg. reward = -167.0\n",
      "Episode 210/1000 Avg. reward = -173.7\n",
      "Episode 220/1000 Avg. reward = -176.0\n",
      "Episode 230/1000 Avg. reward = -183.8\n",
      "Episode 240/1000 Avg. reward = -182.5\n",
      "Episode 250/1000 Avg. reward = -192.5\n",
      "Episode 260/1000 Avg. reward = -154.7\n",
      "Episode 270/1000 Avg. reward = -145.5\n",
      "Episode 280/1000 Avg. reward = -147.4\n",
      "Episode 290/1000 Avg. reward = -160.4\n",
      "Episode 300/1000 Avg. reward = -168.0\n",
      "Episode 310/1000 Avg. reward = -155.9\n",
      "Episode 320/1000 Avg. reward = -222.4\n",
      "Episode 330/1000 Avg. reward = -149.4\n",
      "Episode 340/1000 Avg. reward = -152.2\n",
      "Episode 350/1000 Avg. reward = -147.0\n",
      "Episode 360/1000 Avg. reward = -155.5\n",
      "Episode 370/1000 Avg. reward = -145.7\n",
      "Episode 380/1000 Avg. reward = -146.3\n",
      "Episode 390/1000 Avg. reward = -156.3\n",
      "Episode 400/1000 Avg. reward = -139.9\n",
      "Episode 410/1000 Avg. reward = -142.6\n",
      "Episode 420/1000 Avg. reward = -161.9\n",
      "Episode 430/1000 Avg. reward = -176.3\n",
      "Episode 440/1000 Avg. reward = -166.5\n",
      "Episode 450/1000 Avg. reward = -139.0\n",
      "Episode 460/1000 Avg. reward = -145.5\n",
      "Episode 470/1000 Avg. reward = -135.7\n",
      "Episode 480/1000 Avg. reward = -168.9\n",
      "Episode 490/1000 Avg. reward = -179.9\n",
      "Episode 500/1000 Avg. reward = -144.9\n",
      "Episode 510/1000 Avg. reward = -132.9\n",
      "Episode 520/1000 Avg. reward = -146.6\n",
      "Episode 530/1000 Avg. reward = -135.7\n",
      "Episode 540/1000 Avg. reward = -130.1\n",
      "Episode 550/1000 Avg. reward = -141.5\n",
      "Episode 560/1000 Avg. reward = -148.9\n",
      "Episode 570/1000 Avg. reward = -158.1\n",
      "Episode 580/1000 Avg. reward = -146.6\n",
      "Episode 590/1000 Avg. reward = -154.0\n",
      "Episode 600/1000 Avg. reward = -126.8\n",
      "Episode 610/1000 Avg. reward = -138.1\n",
      "Episode 620/1000 Avg. reward = -154.5\n",
      "Episode 630/1000 Avg. reward = -160.2\n",
      "Episode 640/1000 Avg. reward = -146.4\n",
      "Episode 650/1000 Avg. reward = -126.3\n",
      "Episode 660/1000 Avg. reward = -133.9\n",
      "Episode 670/1000 Avg. reward = -135.8\n",
      "Episode 680/1000 Avg. reward = -157.1\n",
      "Episode 690/1000 Avg. reward = -135.5\n",
      "Episode 700/1000 Avg. reward = -131.7\n",
      "Episode 710/1000 Avg. reward = -131.5\n",
      "Episode 720/1000 Avg. reward = -128.9\n",
      "Episode 730/1000 Avg. reward = -116.9\n",
      "Episode 740/1000 Avg. reward = -143.1\n",
      "Episode 750/1000 Avg. reward = -140.7\n",
      "Episode 760/1000 Avg. reward = -149.3\n",
      "Episode 770/1000 Avg. reward = -138.9\n",
      "Episode 780/1000 Avg. reward = -137.2\n",
      "Episode 790/1000 Avg. reward = -124.3\n",
      "Episode 800/1000 Avg. reward = -138.8\n",
      "Episode 810/1000 Avg. reward = -156.0\n",
      "Episode 820/1000 Avg. reward = -118.1\n",
      "Episode 830/1000 Avg. reward = -120.0\n",
      "Episode 840/1000 Avg. reward = -134.7\n",
      "Episode 850/1000 Avg. reward = -134.9\n",
      "Episode 860/1000 Avg. reward = -141.9\n",
      "Episode 870/1000 Avg. reward = -122.6\n",
      "Episode 880/1000 Avg. reward = -151.8\n",
      "Episode 890/1000 Avg. reward = -123.3\n",
      "Episode 900/1000 Avg. reward = -151.3\n",
      "Episode 910/1000 Avg. reward = -107.9\n",
      "Episode 920/1000 Avg. reward = -186.3\n",
      "Episode 930/1000 Avg. reward = -123.4\n",
      "Episode 940/1000 Avg. reward = -175.2\n",
      "Episode 950/1000 Avg. reward = -136.5\n",
      "Episode 960/1000 Avg. reward = -166.7\n",
      "Episode 970/1000 Avg. reward = -112.9\n",
      "Episode 980/1000 Avg. reward = -140.3\n",
      "Episode 990/1000 Avg. reward = -122.8\n",
      "Episode 1000/1000 Avg. reward = -125.9\n"
     ]
    }
   ],
   "source": [
    "path=\"/home/shiladitya/Desktop/CartPole3D_RL-master/Exp_data_SARSA_Tiling/\" # Just change the path here\n",
    "\n",
    "estimator = Function_Approximator()\n",
    "\n",
    "# Initialize Parameters \n",
    "discount_factor=0.99\n",
    "epsilon=0.1\n",
    "epsilon_decay=1.0\n",
    "alpha=1\n",
    "N_episod=1000\n",
    "f_name=\"/N_ep= \"+str(N_episod)+\" Dis_fact= \"+str(discount_factor)+\" Epsi: \"+str(epsilon)+\" dcay: \"+str(epsilon_decay)+\" alpha: \"+str(alpha)\n",
    "\n",
    "stats = sarsa(env, estimator, N_episod, alpha, discount_factor, epsilon, epsilon_decay)\n",
    "np.save(path+f_name,stats)\n"
   ]
  },
  {
   "cell_type": "code",
   "execution_count": 16,
   "metadata": {},
   "outputs": [
    {
     "data": {
      "text/plain": [
       "array([[ 499.,  499.,  497., ...,  149.,  131.,  124.],\n",
       "       [-500., -500., -497., ..., -149., -131., -124.]])"
      ]
     },
     "execution_count": 16,
     "metadata": {},
     "output_type": "execute_result"
    }
   ],
   "source": [
    "# Fisrt row -> Episode Length\n",
    "# Second row -> Episode Reward\n",
    "np.load('Exp_data_SARSA_Tiling/N_ep= 1000 Dis_fact= 0.99 Epsi: 0.1 dcay: 1.0 alpha: 1.npy')"
   ]
  },
  {
   "cell_type": "code",
   "execution_count": 17,
   "metadata": {},
   "outputs": [
    {
     "data": {
      "image/png": "[encoded data removed]",
      "text/plain": [
       "<Figure size 720x360 with 1 Axes>"
      ]
     },
     "metadata": {},
     "output_type": "display_data"
    },
    {
     "data": {
      "image/png": "[encoded data removed]",
      "text/plain": [
       "<Figure size 720x360 with 1 Axes>"
      ]
     },
     "metadata": {},
     "output_type": "display_data"
    },
    {
     "data": {
      "image/png": "[encoded data removed]",
      "text/plain": [
       "<Figure size 720x360 with 1 Axes>"
      ]
     },
     "metadata": {},
     "output_type": "display_data"
    },
    {
     "data": {
      "text/plain": [
       "(<Figure size 720x360 with 1 Axes>,\n",
       " <Figure size 720x360 with 1 Axes>,\n",
       " <Figure size 720x360 with 1 Axes>)"
      ]
     },
     "execution_count": 17,
     "metadata": {},
     "output_type": "execute_result"
    }
   ],
   "source": [
    "plotting.plot_episode_stats(stats, smoothing_window=25)"
   ]
  },
  {
   "cell_type": "code",
   "execution_count": 42,
   "metadata": {
    "collapsed": true
   },
   "outputs": [
    {
     "data": {
      "text/plain": [
       "Stats(episode_lengths=array([499., 499., 499., 499., 499., 452., 499., 499., 499., 340., 475.,\n",
       "       468., 498., 499., 256., 499., 499., 372., 332., 340., 445., 324.,\n",
       "       182., 269., 249., 352., 175., 396., 499., 124., 499., 307., 211.,\n",
       "       354., 472., 360., 217., 327., 312., 328., 345., 499., 268., 186.,\n",
       "       163., 213., 228., 246., 240., 208., 297., 147., 277., 336., 158.,\n",
       "       343., 121., 236., 345., 278., 426., 242., 252., 307., 201., 187.,\n",
       "       141., 130., 232., 165., 171., 161., 243., 242., 229., 499., 181.,\n",
       "       190., 147., 203., 140., 329., 192., 170., 212., 278., 107., 338.,\n",
       "       347., 170., 280., 418., 179., 157., 288., 294., 396., 205., 152.,\n",
       "       267., 121., 112., 174., 266., 209., 263., 135., 233., 217., 211.,\n",
       "       208., 274., 215., 129., 229., 224., 178., 303., 282., 253., 189.,\n",
       "       130., 269., 204., 154., 274., 145., 178., 253., 114., 261., 158.,\n",
       "       171., 197., 159., 258., 177., 395., 168., 184., 293., 252., 124.,\n",
       "       176., 156., 254., 158., 262., 228., 147., 247., 206., 436., 236.,\n",
       "       189., 215., 183., 109., 162., 230., 178., 204., 191., 156., 308.,\n",
       "       236., 215., 121., 223., 148., 155., 195., 130., 200., 171., 157.,\n",
       "       129., 198., 127., 124., 220., 134., 148., 155., 155., 147., 182.,\n",
       "       176., 129., 214., 138., 228., 120., 247., 168., 124., 143., 132.,\n",
       "       198., 154.,  99., 104.,  87., 131., 180., 244., 236., 181., 121.,\n",
       "       179., 142., 226., 140., 168., 101., 135., 166., 192., 145., 139.,\n",
       "       204., 255., 148., 165., 140., 186., 148., 121., 136., 128., 117.,\n",
       "       129., 192., 108., 133., 143., 198., 124., 198., 118., 211., 184.,\n",
       "       171., 212., 155., 148., 219., 175., 112., 289., 206., 283., 275.,\n",
       "       167., 158., 240., 163., 193., 156., 139., 209., 161., 136., 149.,\n",
       "       137., 190., 125.,  91., 115., 112., 207., 158., 122., 166., 201.,\n",
       "       134., 201., 107., 133., 155., 154., 107., 162., 141., 125., 249.,\n",
       "       141., 109., 189., 170., 143.,  96., 198., 168., 116., 181., 263.,\n",
       "        95., 191., 105., 212., 128., 119., 128., 139., 113., 147., 163.,\n",
       "       195., 118., 308., 210., 163., 143., 175., 107., 195., 191., 126.,\n",
       "       113., 137., 178., 143., 130., 127., 101., 104., 206., 131., 155.,\n",
       "        96., 203., 200., 235., 184., 144., 147., 120., 130., 121., 268.,\n",
       "       133., 129.,  99.,  92., 121., 115., 110., 114., 174., 193., 129.,\n",
       "       217.,  95., 291., 142., 143., 101., 214.,  88., 291., 110., 157.,\n",
       "       250., 111., 123., 160., 158., 171., 177., 128., 167., 150., 177.,\n",
       "       100.,  79., 127., 163.,  96., 171., 157.,  92., 204., 135., 151.,\n",
       "       110.,  75., 155., 107., 105., 151., 113., 160., 390., 149., 139.,\n",
       "       107., 128., 130., 201., 110., 163., 100., 121., 232., 134.,  95.,\n",
       "       121., 130., 112.,  97., 132., 162., 130., 207., 151., 139., 131.,\n",
       "       154., 259., 126., 103., 110., 116., 115., 176., 128., 145., 117.,\n",
       "       123., 159., 155., 152., 237., 117., 261., 165., 136., 142., 124.,\n",
       "       123., 107., 221., 110., 107.,  99., 135., 154.,  86., 172.,  85.,\n",
       "       122., 168., 163.,  98., 103., 151., 119., 107., 141., 117., 117.,\n",
       "       173., 111., 208., 126., 134., 127.,  85.,  91., 120., 122., 165.,\n",
       "       122., 217., 112., 101., 137., 158., 133., 155., 225., 113., 130.,\n",
       "       152., 160., 159., 125., 133., 234., 118., 252., 324.,  88., 114.,\n",
       "       164., 144., 181., 105.,  90.]), episode_rewards=array([-500., -500., -500., -500., -500., -452., -500., -500., -500.,\n",
       "       -340., -475., -468., -498., -500., -256., -500., -500., -372.,\n",
       "       -332., -340., -445., -324., -182., -269., -249., -352., -175.,\n",
       "       -396., -500., -124., -500., -307., -211., -354., -472., -360.,\n",
       "       -217., -327., -312., -328., -345., -500., -268., -186., -163.,\n",
       "       -213., -228., -246., -240., -208., -297., -147., -277., -336.,\n",
       "       -158., -343., -121., -236., -345., -278., -426., -242., -252.,\n",
       "       -307., -201., -187., -141., -130., -232., -165., -171., -161.,\n",
       "       -243., -242., -229., -500., -181., -190., -147., -203., -140.,\n",
       "       -329., -192., -170., -212., -278., -107., -338., -347., -170.,\n",
       "       -280., -418., -179., -157., -288., -294., -396., -205., -152.,\n",
       "       -267., -121., -112., -174., -266., -209., -263., -135., -233.,\n",
       "       -217., -211., -208., -274., -215., -129., -229., -224., -178.,\n",
       "       -303., -282., -253., -189., -130., -269., -204., -154., -274.,\n",
       "       -145., -178., -253., -114., -261., -158., -171., -197., -159.,\n",
       "       -258., -177., -395., -168., -184., -293., -252., -124., -176.,\n",
       "       -156., -254., -158., -262., -228., -147., -247., -206., -436.,\n",
       "       -236., -189., -215., -183., -109., -162., -230., -178., -204.,\n",
       "       -191., -156., -308., -236., -215., -121., -223., -148., -155.,\n",
       "       -195., -130., -200., -171., -157., -129., -198., -127., -124.,\n",
       "       -220., -134., -148., -155., -155., -147., -182., -176., -129.,\n",
       "       -214., -138., -228., -120., -247., -168., -124., -143., -132.,\n",
       "       -198., -154.,  -99., -104.,  -87., -131., -180., -244., -236.,\n",
       "       -181., -121., -179., -142., -226., -140., -168., -101., -135.,\n",
       "       -166., -192., -145., -139., -204., -255., -148., -165., -140.,\n",
       "       -186., -148., -121., -136., -128., -117., -129., -192., -108.,\n",
       "       -133., -143., -198., -124., -198., -118., -211., -184., -171.,\n",
       "       -212., -155., -148., -219., -175., -112., -289., -206., -283.,\n",
       "       -275., -167., -158., -240., -163., -193., -156., -139., -209.,\n",
       "       -161., -136., -149., -137., -190., -125.,  -91., -115., -112.,\n",
       "       -207., -158., -122., -166., -201., -134., -201., -107., -133.,\n",
       "       -155., -154., -107., -162., -141., -125., -249., -141., -109.,\n",
       "       -189., -170., -143.,  -96., -198., -168., -116., -181., -263.,\n",
       "        -95., -191., -105., -212., -128., -119., -128., -139., -113.,\n",
       "       -147., -163., -195., -118., -308., -210., -163., -143., -175.,\n",
       "       -107., -195., -191., -126., -113., -137., -178., -143., -130.,\n",
       "       -127., -101., -104., -206., -131., -155.,  -96., -203., -200.,\n",
       "       -235., -184., -144., -147., -120., -130., -121., -268., -133.,\n",
       "       -129.,  -99.,  -92., -121., -115., -110., -114., -174., -193.,\n",
       "       -129., -217.,  -95., -291., -142., -143., -101., -214.,  -88.,\n",
       "       -291., -110., -157., -250., -111., -123., -160., -158., -171.,\n",
       "       -177., -128., -167., -150., -177., -100.,  -79., -127., -163.,\n",
       "        -96., -171., -157.,  -92., -204., -135., -151., -110.,  -75.,\n",
       "       -155., -107., -105., -151., -113., -160., -390., -149., -139.,\n",
       "       -107., -128., -130., -201., -110., -163., -100., -121., -232.,\n",
       "       -134.,  -95., -121., -130., -112.,  -97., -132., -162., -130.,\n",
       "       -207., -151., -139., -131., -154., -259., -126., -103., -110.,\n",
       "       -116., -115., -176., -128., -145., -117., -123., -159., -155.,\n",
       "       -152., -237., -117., -261., -165., -136., -142., -124., -123.,\n",
       "       -107., -221., -110., -107.,  -99., -135., -154.,  -86., -172.,\n",
       "        -85., -122., -168., -163.,  -98., -103., -151., -119., -107.,\n",
       "       -141., -117., -117., -173., -111., -208., -126., -134., -127.,\n",
       "        -85.,  -91., -120., -122., -165., -122., -217., -112., -101.,\n",
       "       -137., -158., -133., -155., -225., -113., -130., -152., -160.,\n",
       "       -159., -125., -133., -234., -118., -252., -324.,  -88., -114.,\n",
       "       -164., -144., -181., -105.,  -90.]))"
      ]
     },
     "execution_count": 42,
     "metadata": {},
     "output_type": "execute_result"
    }
   ],
   "source": [
    "stats"
   ]
  },
  {
   "cell_type": "code",
   "execution_count": 45,
   "metadata": {},
   "outputs": [],
   "source": [
    "# state = env.observation_space.sample()\n",
    "state = env.reset()\n",
    "# plt.figure()\n",
    "# plt.imshow(env.render(mode='rgb_array'))\n",
    "while True:\n",
    "    q_values = estimator.predict(state)\n",
    "    best_action = np.argmax(q_values)\n",
    "#     plt.figure()\n",
    "#     plt.imshow(env.render(mode='rgb_array'))\n",
    "\n",
    "#     action_pge = get_pge_action(best_action)\n",
    "    \n",
    "    next_state, reward, end, _ = env.step(best_action)\n",
    "    if end:\n",
    "        break\n",
    "        \n",
    "    state = next_state\n",
    "    env.render()\n",
    "# env.close()"
   ]
  },
  {
   "cell_type": "code",
   "execution_count": null,
   "metadata": {},
   "outputs": [],
   "source": []
  },
  {
   "cell_type": "code",
   "execution_count": 63,
   "metadata": {},
   "outputs": [
    {
     "data": {
      "text/plain": [
       "array([-0.11945403,  0.29413375, -1.4568335 , -0.17493604,  0.40899193,\n",
       "        0.73602676,  1.3300323 ,  0.1892223 ], dtype=float32)"
      ]
     },
     "execution_count": 63,
     "metadata": {},
     "output_type": "execute_result"
    }
   ],
   "source": [
    "env.observation_space.sample()"
   ]
  },
  {
   "cell_type": "code",
   "execution_count": 31,
   "metadata": {},
   "outputs": [],
   "source": [
    "env = gym.make('CartPole-v1')"
   ]
  },
  {
   "cell_type": "code",
   "execution_count": 61,
   "metadata": {},
   "outputs": [
    {
     "data": {
      "text/plain": [
       "(array([ 0.00353907,  0.19214232, -0.0343606 , -0.34522076]), 1.0, False, {})"
      ]
     },
     "execution_count": 61,
     "metadata": {},
     "output_type": "execute_result"
    }
   ],
   "source": [
    "env.reset()\n",
    "env.step(env.action_space.sample())"
   ]
  },
  {
   "cell_type": "code",
   "execution_count": 123,
   "metadata": {},
   "outputs": [
    {
     "data": {
      "text/plain": [
       "(array([-0.74117499, -1.35688824,  0.28442935,  1.79704102]), 0.0, True, {})"
      ]
     },
     "execution_count": 123,
     "metadata": {},
     "output_type": "execute_result"
    }
   ],
   "source": [
    "env.step(env.action_space.sample())"
   ]
  },
  {
   "cell_type": "code",
   "execution_count": 39,
   "metadata": {},
   "outputs": [
    {
     "data": {
      "text/plain": [
       "(array([ 0.99191838,  0.12687758,  0.93816387, -0.34619151, -0.26319339,\n",
       "         0.28025021]),\n",
       " -1.0,\n",
       " False,\n",
       " {})"
      ]
     },
     "execution_count": 39,
     "metadata": {},
     "output_type": "execute_result"
    }
   ],
   "source": [
    "env.step(0)"
   ]
  },
  {
   "cell_type": "code",
   "execution_count": 40,
   "metadata": {},
   "outputs": [],
   "source": [
    "env.close()"
   ]
  },
  {
   "cell_type": "code",
   "execution_count": null,
   "metadata": {},
   "outputs": [],
   "source": []
  }
 ],
 "metadata": {
  "kernelspec": {
   "display_name": "Python 3",
   "language": "python",
   "name": "python3"
  },
  "language_info": {
   "codemirror_mode": {
    "name": "ipython",
    "version": 3
   },
   "file_extension": ".py",
   "mimetype": "text/x-python",
   "name": "python",
   "nbconvert_exporter": "python",
   "pygments_lexer": "ipython3",
   "version": "3.6.9"
  }
 },
 "nbformat": 4,
 "nbformat_minor": 4
}
